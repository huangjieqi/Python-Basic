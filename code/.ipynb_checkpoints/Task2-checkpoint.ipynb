{
 "cells": [
  {
   "cell_type": "markdown",
   "metadata": {},
   "source": [
    "# 列表"
   ]
  },
  {
   "cell_type": "code",
   "execution_count": 1,
   "metadata": {},
   "outputs": [],
   "source": [
    "# 创建\n",
    "list0 = ['physics', 'chemistry', 1997, 2000]\n",
    "list0 = [1, 2, 3, 4, 5]"
   ]
  },
  {
   "cell_type": "code",
   "execution_count": 2,
   "metadata": {},
   "outputs": [
    {
     "name": "stdout",
     "output_type": "stream",
     "text": [
      "[123, 'xyz', 'zara', 'abc', 2009]\n"
     ]
    }
   ],
   "source": [
    "# append()\n",
    "list0 = [123, 'xyz', 'zara', 'abc']\n",
    "list0.append(2009)\n",
    "print(list0)"
   ]
  },
  {
   "cell_type": "code",
   "execution_count": 4,
   "metadata": {},
   "outputs": [
    {
     "name": "stdout",
     "output_type": "stream",
     "text": [
      "['Google', 'Taobao']\n",
      "Runoob\n",
      "['Google']\n"
     ]
    }
   ],
   "source": [
    "# pop()\n",
    "list0 = ['Google', 'Runoob', 'Taobao']\n",
    "element = list0.pop(1)\n",
    "print(list0)\n",
    "print(element)\n",
    "list0.pop()\n",
    "print(list0)"
   ]
  },
  {
   "cell_type": "code",
   "execution_count": 5,
   "metadata": {},
   "outputs": [
    {
     "name": "stdout",
     "output_type": "stream",
     "text": [
      "['physics', 'chemistry', 2000]\n"
     ]
    }
   ],
   "source": [
    "# del()\n",
    "list0 = ['physics', 'chemistry', 1997, 2000]\n",
    "del list0[2]\n",
    "print(list0)"
   ]
  },
  {
   "cell_type": "code",
   "execution_count": 6,
   "metadata": {},
   "outputs": [
    {
     "name": "stdout",
     "output_type": "stream",
     "text": [
      "list0: [[1, 2, 3], 10, 20, 30]\n",
      "list1: [[1, 2, 3], 10, 20, 30]\n",
      "list2: [[1, 2, 3], 10, 20]\n",
      "list3: [[1, 2, 3], 10, 20]\n",
      "list4: [[1, 2, 3], 10, 20]\n",
      "list5: [[1, 2, 3], 10, 20]\n",
      "list6: [[1, 2, 3], 10, 20]\n",
      "list7: [[1, 2], 10, 20]\n"
     ]
    }
   ],
   "source": [
    "# 拷贝\n",
    "import copy\n",
    "\n",
    "list0 = [[1, 2], 10, 20]\n",
    "list1 = list0  # 第1种\n",
    "list2 = list0[:]  # 第2种\n",
    "list3 = list(list0)  # 第3种\n",
    "list4 = list0*1  # 第4种\n",
    "list5 = copy.copy(list0)  # 第5种\n",
    "list6 = [x for x in list0]  # 第6种\n",
    "list7 = copy.deepcopy(list0)  # 第7种\n",
    " \n",
    "list0.append(30)\n",
    "list0[0].append(3)\n",
    " \n",
    "print('list0:', list0)\n",
    "print('list1:', list1)\n",
    "print('list2:', list2)\n",
    "print('list3:', list3)\n",
    "print('list4:', list4)\n",
    "print('list5:', list5)\n",
    "print('list6:', list6)\n",
    "print('list7:', list7)"
   ]
  },
  {
   "cell_type": "markdown",
   "metadata": {},
   "source": [
    "# 元组"
   ]
  },
  {
   "cell_type": "code",
   "execution_count": 7,
   "metadata": {},
   "outputs": [],
   "source": [
    "# 创建\n",
    "tup1 = ('Google', 'Runoob', 1997, 2000)\n",
    "tup2 = \"a\", \"b\", \"c\", \"d\" # 可以不加括号\n",
    "tup3 = () # 空元组"
   ]
  },
  {
   "cell_type": "markdown",
   "metadata": {},
   "source": [
    "# 字符串"
   ]
  },
  {
   "cell_type": "code",
   "execution_count": 8,
   "metadata": {},
   "outputs": [
    {
     "name": "stdout",
     "output_type": "stream",
     "text": [
      "Hello Python!\n"
     ]
    }
   ],
   "source": [
    "# + 字符串连接\n",
    "var1 = 'Hello World!' \n",
    "print(var1[:6] + 'Python!')"
   ]
  },
  {
   "cell_type": "code",
   "execution_count": 9,
   "metadata": {},
   "outputs": [
    {
     "name": "stdout",
     "output_type": "stream",
     "text": [
      "Hello World!Hello World!\n"
     ]
    }
   ],
   "source": [
    "# * 重复输出字符串\n",
    "print(var1*2)"
   ]
  },
  {
   "cell_type": "code",
   "execution_count": 10,
   "metadata": {},
   "outputs": [
    {
     "name": "stdout",
     "output_type": "stream",
     "text": [
      "var1[0]:  H\n",
      "var2[1:5]:  ytho\n"
     ]
    }
   ],
   "source": [
    "# 读取\n",
    "var2 = \"Python\"\n",
    "print (\"var1[0]: \", var1[0])\n",
    "print (\"var2[1:5]: \", var2[1:5])"
   ]
  }
 ],
 "metadata": {
  "kernelspec": {
   "display_name": "Python 3",
   "language": "python",
   "name": "python3"
  },
  "language_info": {
   "codemirror_mode": {
    "name": "ipython",
    "version": 3
   },
   "file_extension": ".py",
   "mimetype": "text/x-python",
   "name": "python",
   "nbconvert_exporter": "python",
   "pygments_lexer": "ipython3",
   "version": "3.7.3"
  }
 },
 "nbformat": 4,
 "nbformat_minor": 2
}
